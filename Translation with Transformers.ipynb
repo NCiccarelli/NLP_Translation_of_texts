{
 "cells": [
  {
   "cell_type": "markdown",
   "id": "ce59645e",
   "metadata": {},
   "source": [
    "###### The goal of this notebook is to use the huggingface's transformers library to change text from one language to another using pre-trained models."
   ]
  },
  {
   "cell_type": "code",
   "execution_count": 1,
   "id": "2b52a1fc",
   "metadata": {},
   "outputs": [
    {
     "name": "stderr",
     "output_type": "stream",
     "text": [
      "C:\\Users\\n_cic\\anaconda3\\envs\\translation_conda_env\\lib\\site-packages\\tqdm\\auto.py:21: TqdmWarning: IProgress not found. Please update jupyter and ipywidgets. See https://ipywidgets.readthedocs.io/en/stable/user_install.html\n",
      "  from .autonotebook import tqdm as notebook_tqdm\n"
     ]
    }
   ],
   "source": [
    "from transformers import pipeline\n",
    "import gradio as gr\n",
    "from transformers import AutoModelForSeq2SeqLM,AutoTokenizer\n",
    "from transformers import AutoModel,AutoModelForSeq2SeqLM"
   ]
  },
  {
   "cell_type": "markdown",
   "id": "3b55aadc",
   "metadata": {},
   "source": [
    "### Section 1: The first model we explore here is the Helsinki-NLP/opus-mt-en-de model, which takes input in English and translates it to German."
   ]
  },
  {
   "cell_type": "code",
   "execution_count": 8,
   "id": "6de5e097",
   "metadata": {},
   "outputs": [],
   "source": [
    "mdl_name = \"Helsinki-NLP/opus-mt-en-de\"\n",
    "\n",
    "mdl = AutoModelForSeq2SeqLM.from_pretrained(mdl_name)\n",
    "my_tkn = AutoTokenizer.from_pretrained(mdl_name)\n",
    "\n",
    "def translate(text):\n",
    "    inputs = my_tkn(text, return_tensors=\"pt\")\n",
    "    trans_output = mdl.generate(**inputs)\n",
    "    response = my_tkn.decode(trans_output[0], skip_special_tokens=True)\n",
    "    return response"
   ]
  },
  {
   "cell_type": "code",
   "execution_count": 9,
   "id": "e29799f9",
   "metadata": {},
   "outputs": [
    {
     "data": {
      "text/plain": [
       "'Ich werde heute Abend einen Flug nach Chicago machen.'"
      ]
     },
     "execution_count": 9,
     "metadata": {},
     "output_type": "execute_result"
    }
   ],
   "source": [
    "text = \"I will be taking a flight to Chicago tonight\"\n",
    "translate(text)"
   ]
  },
  {
   "cell_type": "markdown",
   "id": "9dc3e94e",
   "metadata": {},
   "source": [
    "### Section 2: We'll practice again by translating English to French using the Helsinki-NLP/opus-mt-en-fr model, using the same sentence as before."
   ]
  },
  {
   "cell_type": "code",
   "execution_count": 10,
   "id": "5d9c6142",
   "metadata": {},
   "outputs": [],
   "source": [
    "mdl_name = \"Helsinki-NLP/opus-mt-en-fr\"\n",
    "\n",
    "mdl = AutoModelForSeq2SeqLM.from_pretrained(mdl_name)\n",
    "my_tkn = AutoTokenizer.from_pretrained(mdl_name)\n",
    "#opus_translator = pipeline(\"translation\", model=mdl_name)\n",
    "\n",
    "\n",
    "def translate(text):\n",
    "    inputs = my_tkn(text, return_tensors=\"pt\")\n",
    "    trans_output = mdl.generate(**inputs)\n",
    "    response = my_tkn.decode(trans_output[0], skip_special_tokens=True)\n",
    "    return response"
   ]
  },
  {
   "cell_type": "code",
   "execution_count": 11,
   "id": "e511c065",
   "metadata": {},
   "outputs": [
    {
     "data": {
      "text/plain": [
       "'Je vais prendre un vol pour Chicago ce soir.'"
      ]
     },
     "execution_count": 11,
     "metadata": {},
     "output_type": "execute_result"
    }
   ],
   "source": [
    "text = \"I will be taking a flight to Chicago tonight\"\n",
    "translate(text)"
   ]
  },
  {
   "cell_type": "markdown",
   "id": "7372d913",
   "metadata": {},
   "source": [
    "### Section 3: create a function that can use several transformers models (several languages)"
   ]
  },
  {
   "cell_type": "code",
   "execution_count": 13,
   "id": "ef1adb3b",
   "metadata": {},
   "outputs": [],
   "source": [
    "def translate_modified_function(text, mdl_name):\n",
    "    # define the model and tokenizer:\n",
    "    mdl = AutoModelForSeq2SeqLM.from_pretrained(mdl_name)\n",
    "    my_tkn = AutoTokenizer.from_pretrained(mdl_name)\n",
    "    \n",
    "    # translate:\n",
    "    inputs = my_tkn(text, return_tensors=\"pt\")\n",
    "    trans_output = mdl.generate(**inputs)\n",
    "    response = my_tkn.decode(trans_output[0], skip_special_tokens=True)\n",
    "    return response"
   ]
  },
  {
   "cell_type": "code",
   "execution_count": 14,
   "id": "3f5424cf",
   "metadata": {},
   "outputs": [
    {
     "name": "stdout",
     "output_type": "stream",
     "text": [
      "Ich werde heute Abend einen Flug nach Chicago machen.\n"
     ]
    }
   ],
   "source": [
    "text = \"I will be taking a flight to Chicago tonight\"\n",
    "mdl_name = \"Helsinki-NLP/opus-mt-en-de\"\n",
    "print(translate_modified_function(text, mdl_name))"
   ]
  },
  {
   "cell_type": "code",
   "execution_count": 15,
   "id": "b26978a9",
   "metadata": {},
   "outputs": [
    {
     "name": "stdout",
     "output_type": "stream",
     "text": [
      "Je vais prendre un vol pour Chicago ce soir.\n"
     ]
    }
   ],
   "source": [
    "text = \"I will be taking a flight to Chicago tonight\"\n",
    "mdl_name = \"Helsinki-NLP/opus-mt-en-fr\"\n",
    "print(translate_modified_function(text, mdl_name))"
   ]
  },
  {
   "cell_type": "markdown",
   "id": "29d886a2",
   "metadata": {},
   "source": [
    "# Section 4: Gradio app"
   ]
  },
  {
   "cell_type": "code",
   "execution_count": 16,
   "id": "cbd96277",
   "metadata": {},
   "outputs": [
    {
     "name": "stderr",
     "output_type": "stream",
     "text": [
      "C:\\Users\\n_cic\\AppData\\Local\\Temp\\ipykernel_12704\\2989516706.py:10: GradioDeprecationWarning: Usage of gradio.inputs is deprecated, and will not be supported in the future, please import your component from gradio.components\n",
      "  gr.inputs.Textbox(lines=3, placeholder=\"Enter Text Here...\"),\n",
      "C:\\Users\\n_cic\\AppData\\Local\\Temp\\ipykernel_12704\\2989516706.py:10: GradioDeprecationWarning: `optional` parameter is deprecated, and it has no effect\n",
      "  gr.inputs.Textbox(lines=3, placeholder=\"Enter Text Here...\"),\n",
      "C:\\Users\\n_cic\\AppData\\Local\\Temp\\ipykernel_12704\\2989516706.py:10: GradioDeprecationWarning: `numeric` parameter is deprecated, and it has no effect\n",
      "  gr.inputs.Textbox(lines=3, placeholder=\"Enter Text Here...\"),\n",
      "C:\\Users\\n_cic\\AppData\\Local\\Temp\\ipykernel_12704\\2989516706.py:11: GradioDeprecationWarning: Usage of gradio.inputs is deprecated, and will not be supported in the future, please import your component from gradio.components\n",
      "  gr.inputs.Dropdown(choices=[\n",
      "C:\\Users\\n_cic\\AppData\\Local\\Temp\\ipykernel_12704\\2989516706.py:11: GradioDeprecationWarning: `optional` parameter is deprecated, and it has no effect\n",
      "  gr.inputs.Dropdown(choices=[\n"
     ]
    },
    {
     "name": "stdout",
     "output_type": "stream",
     "text": [
      "Running on local URL:  http://127.0.0.1:7860\n",
      "\n",
      "To create a public link, set `share=True` in `launch()`.\n"
     ]
    },
    {
     "data": {
      "text/html": [
       "<div><iframe src=\"http://127.0.0.1:7860/\" width=\"100%\" height=\"500\" allow=\"autoplay; camera; microphone; clipboard-read; clipboard-write;\" frameborder=\"0\" allowfullscreen></iframe></div>"
      ],
      "text/plain": [
       "<IPython.core.display.HTML object>"
      ]
     },
     "metadata": {},
     "output_type": "display_data"
    },
    {
     "data": {
      "text/plain": []
     },
     "execution_count": 16,
     "metadata": {},
     "output_type": "execute_result"
    },
    {
     "name": "stderr",
     "output_type": "stream",
     "text": [
      "C:\\Users\\n_cic\\anaconda3\\envs\\translation_conda_env\\lib\\site-packages\\transformers\\models\\marian\\tokenization_marian.py:194: UserWarning: Recommended: pip install sacremoses.\n",
      "  warnings.warn(\"Recommended: pip install sacremoses.\")\n"
     ]
    }
   ],
   "source": [
    "import gradio as gr\n",
    "\n",
    "# Create a Gradio interface:\n",
    "def gr_interface(text, mdl_name):\n",
    "    return translate_modified_function(text, mdl_name)\n",
    "\n",
    "iface = gr.Interface(\n",
    "    fn=gr_interface, \n",
    "    inputs=[\n",
    "        gr.inputs.Textbox(lines=3, placeholder=\"Enter Text Here...\"),\n",
    "        gr.inputs.Dropdown(choices=[\n",
    "            \"Helsinki-NLP/opus-mt-en-de\",\n",
    "            \"Helsinki-NLP/opus-mt-en-fr\",\n",
    "            # ... add more models if needed\n",
    "        ])\n",
    "    ], \n",
    "    outputs=\"text\"\n",
    ")\n",
    "\n",
    "iface.launch()"
   ]
  },
  {
   "cell_type": "markdown",
   "id": "5761fe7c",
   "metadata": {},
   "source": [
    "end of the notebook."
   ]
  }
 ],
 "metadata": {
  "kernelspec": {
   "display_name": "translation_conda_env",
   "language": "python",
   "name": "translation_conda_env"
  },
  "language_info": {
   "codemirror_mode": {
    "name": "ipython",
    "version": 3
   },
   "file_extension": ".py",
   "mimetype": "text/x-python",
   "name": "python",
   "nbconvert_exporter": "python",
   "pygments_lexer": "ipython3",
   "version": "3.8.17"
  }
 },
 "nbformat": 4,
 "nbformat_minor": 5
}
